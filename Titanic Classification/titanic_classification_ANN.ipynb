{
  "nbformat": 4,
  "nbformat_minor": 0,
  "metadata": {
    "colab": {
      "provenance": []
    },
    "kernelspec": {
      "name": "python3",
      "display_name": "Python 3"
    },
    "language_info": {
      "name": "python"
    }
  },
  "cells": [
    {
      "cell_type": "markdown",
      "source": [
        "Import important Libraries:"
      ],
      "metadata": {
        "id": "szJhnay7xwRP"
      }
    },
    {
      "cell_type": "code",
      "source": [
        "import pandas as pd\n",
        "import matplotlib.pyplot as plt\n",
        "import numpy as np\n",
        "import seaborn as sns\n",
        "import tensorflow as tf\n",
        "from sklearn.model_selection import train_test_split\n",
        "from sklearn.preprocessing import LabelEncoder, StandardScaler"
      ],
      "metadata": {
        "id": "aagjMj7JxuKR"
      },
      "execution_count": 20,
      "outputs": []
    },
    {
      "cell_type": "markdown",
      "source": [
        "Load the train and test data:"
      ],
      "metadata": {
        "id": "bClbsgYtx-RE"
      }
    },
    {
      "cell_type": "code",
      "source": [
        "train_data = pd.read_csv('/content/train.csv')\n",
        "test_data = pd.read_csv('/content/test.csv')"
      ],
      "metadata": {
        "id": "t4M_6yKOaA5d"
      },
      "execution_count": 21,
      "outputs": []
    },
    {
      "cell_type": "markdown",
      "source": [
        "Preprocessing:"
      ],
      "metadata": {
        "id": "HM0jc79_yGZh"
      }
    },
    {
      "cell_type": "code",
      "source": [
        "#Removing the unawanted columns\n",
        "train_data = train_data.drop(['PassengerId', 'Name', 'Ticket', 'Cabin'], axis=1)\n",
        "test_data = test_data.drop(['Name', 'Ticket', 'Cabin'], axis=1)\n",
        "test_passenger_ids = test_data['PassengerId']\n",
        "test_data = test_data.drop(['PassengerId'], axis=1)"
      ],
      "metadata": {
        "id": "Bd8CvqJsudww"
      },
      "execution_count": 22,
      "outputs": []
    },
    {
      "cell_type": "code",
      "source": [
        "# Convert categorical features to numerical labels\n",
        "label_encoder = LabelEncoder()\n",
        "train_data['Sex'] = label_encoder.fit_transform(train_data['Sex'])\n",
        "test_data['Sex'] = label_encoder.transform(test_data['Sex'])\n",
        "train_data['Embarked'] = train_data['Embarked'].fillna('Unknown')\n",
        "test_data['Embarked'] = test_data['Embarked'].fillna('Unknown')\n",
        "train_data['Embarked'] = label_encoder.fit_transform(train_data['Embarked'])\n",
        "test_data['Embarked'] = label_encoder.transform(test_data['Embarked'])"
      ],
      "metadata": {
        "id": "wd8QysBHud1d"
      },
      "execution_count": 23,
      "outputs": []
    },
    {
      "cell_type": "code",
      "source": [
        "# Impute missing values\n",
        "train_data['Age'] = train_data['Age'].fillna(train_data['Age'].median())\n",
        "test_data['Age'] = test_data['Age'].fillna(train_data['Age'].median())\n",
        "test_data['Fare'] = test_data['Fare'].fillna(train_data['Fare'].median())"
      ],
      "metadata": {
        "id": "qmeAX0Qzud3Q"
      },
      "execution_count": 24,
      "outputs": []
    },
    {
      "cell_type": "code",
      "source": [
        "# Scale the numerical features\n",
        "scaler = StandardScaler()\n",
        "train_data[['Age', 'Fare']] = scaler.fit_transform(train_data[['Age', 'Fare']])\n",
        "test_data[['Age', 'Fare']] = scaler.transform(test_data[['Age', 'Fare']])"
      ],
      "metadata": {
        "id": "whckeOxhud52"
      },
      "execution_count": 25,
      "outputs": []
    },
    {
      "cell_type": "markdown",
      "source": [
        "Split the training data into training and validation sets"
      ],
      "metadata": {
        "id": "NhEkHg5syWUa"
      }
    },
    {
      "cell_type": "code",
      "source": [
        "train_data, val_data = train_test_split(train_data, test_size=0.2, random_state=42)"
      ],
      "metadata": {
        "id": "zVOqQpzzud8v"
      },
      "execution_count": 26,
      "outputs": []
    },
    {
      "cell_type": "markdown",
      "source": [
        "Modeling:"
      ],
      "metadata": {
        "id": "UrUM1XkfyblK"
      }
    },
    {
      "cell_type": "code",
      "source": [
        "model = tf.keras.Sequential([\n",
        "  tf.keras.layers.Dense(64, input_shape=(7,), activation='relu'),\n",
        "  tf.keras.layers.Dense(32, activation='relu'),\n",
        "  tf.keras.layers.Dense(16, activation='relu'),\n",
        "  tf.keras.layers.Dense(1, activation='sigmoid')\n",
        "])"
      ],
      "metadata": {
        "id": "bWV7zqEzud_m"
      },
      "execution_count": 27,
      "outputs": []
    },
    {
      "cell_type": "code",
      "source": [
        "# Define the learning rate scheduler\n",
        "def scheduler(epoch, lr):\n",
        "    if epoch < 10:\n",
        "        return lr\n",
        "    else:\n",
        "        return lr * tf.math.exp(-0.1)"
      ],
      "metadata": {
        "id": "u9_3yuynxHSu"
      },
      "execution_count": 28,
      "outputs": []
    },
    {
      "cell_type": "code",
      "source": [
        "# Compile the model\n",
        "model.compile(optimizer=tf.keras.optimizers.Adam(learning_rate=0.001), loss='binary_crossentropy', metrics=['accuracy'])"
      ],
      "metadata": {
        "id": "KhUuv0KTxHV0"
      },
      "execution_count": 29,
      "outputs": []
    },
    {
      "cell_type": "code",
      "source": [
        "# Train the model with learning rate scheduling\n",
        "history = model.fit(train_data.iloc[:, 1:], train_data.iloc[:, 0], validation_data=(val_data.iloc[:, 1:], val_data.iloc[:, 0]),\n",
        "                    epochs=100, batch_size=16, callbacks=[tf.keras.callbacks.LearningRateScheduler(scheduler)])"
      ],
      "metadata": {
        "colab": {
          "base_uri": "https://localhost:8080/"
        },
        "id": "0HwZyCuFxHYH",
        "outputId": "c1a25336-6d13-4174-c8c6-97dad43382a6"
      },
      "execution_count": 30,
      "outputs": [
        {
          "output_type": "stream",
          "name": "stdout",
          "text": [
            "Epoch 1/100\n",
            "45/45 [==============================] - 3s 21ms/step - loss: 0.6676 - accuracy: 0.5674 - val_loss: 0.6362 - val_accuracy: 0.5978 - lr: 0.0010\n",
            "Epoch 2/100\n",
            "45/45 [==============================] - 1s 14ms/step - loss: 0.6053 - accuracy: 0.6573 - val_loss: 0.5926 - val_accuracy: 0.6704 - lr: 0.0010\n",
            "Epoch 3/100\n",
            "45/45 [==============================] - 0s 8ms/step - loss: 0.5598 - accuracy: 0.7219 - val_loss: 0.5319 - val_accuracy: 0.7542 - lr: 0.0010\n",
            "Epoch 4/100\n",
            "45/45 [==============================] - 0s 10ms/step - loss: 0.4968 - accuracy: 0.7514 - val_loss: 0.4830 - val_accuracy: 0.7933 - lr: 0.0010\n",
            "Epoch 5/100\n",
            "45/45 [==============================] - 0s 9ms/step - loss: 0.4630 - accuracy: 0.8104 - val_loss: 0.4655 - val_accuracy: 0.7989 - lr: 0.0010\n",
            "Epoch 6/100\n",
            "45/45 [==============================] - 0s 9ms/step - loss: 0.4423 - accuracy: 0.8230 - val_loss: 0.4540 - val_accuracy: 0.7989 - lr: 0.0010\n",
            "Epoch 7/100\n",
            "45/45 [==============================] - 0s 7ms/step - loss: 0.4331 - accuracy: 0.8287 - val_loss: 0.4528 - val_accuracy: 0.8045 - lr: 0.0010\n",
            "Epoch 8/100\n",
            "45/45 [==============================] - 0s 6ms/step - loss: 0.4291 - accuracy: 0.8244 - val_loss: 0.4456 - val_accuracy: 0.8156 - lr: 0.0010\n",
            "Epoch 9/100\n",
            "45/45 [==============================] - 0s 8ms/step - loss: 0.4199 - accuracy: 0.8329 - val_loss: 0.4374 - val_accuracy: 0.8212 - lr: 0.0010\n",
            "Epoch 10/100\n",
            "45/45 [==============================] - 0s 5ms/step - loss: 0.4162 - accuracy: 0.8301 - val_loss: 0.4521 - val_accuracy: 0.7989 - lr: 0.0010\n",
            "Epoch 11/100\n",
            "45/45 [==============================] - 0s 5ms/step - loss: 0.4143 - accuracy: 0.8258 - val_loss: 0.4434 - val_accuracy: 0.8101 - lr: 9.0484e-04\n",
            "Epoch 12/100\n",
            "45/45 [==============================] - 0s 7ms/step - loss: 0.4091 - accuracy: 0.8315 - val_loss: 0.4365 - val_accuracy: 0.8212 - lr: 8.1873e-04\n",
            "Epoch 13/100\n",
            "45/45 [==============================] - 0s 7ms/step - loss: 0.4028 - accuracy: 0.8357 - val_loss: 0.4391 - val_accuracy: 0.8045 - lr: 7.4082e-04\n",
            "Epoch 14/100\n",
            "45/45 [==============================] - 0s 6ms/step - loss: 0.3990 - accuracy: 0.8343 - val_loss: 0.4422 - val_accuracy: 0.8101 - lr: 6.7032e-04\n",
            "Epoch 15/100\n",
            "45/45 [==============================] - 0s 6ms/step - loss: 0.3981 - accuracy: 0.8343 - val_loss: 0.4365 - val_accuracy: 0.8156 - lr: 6.0653e-04\n",
            "Epoch 16/100\n",
            "45/45 [==============================] - 0s 8ms/step - loss: 0.3951 - accuracy: 0.8343 - val_loss: 0.4536 - val_accuracy: 0.7877 - lr: 5.4881e-04\n",
            "Epoch 17/100\n",
            "45/45 [==============================] - 0s 7ms/step - loss: 0.3950 - accuracy: 0.8371 - val_loss: 0.4368 - val_accuracy: 0.8101 - lr: 4.9659e-04\n",
            "Epoch 18/100\n",
            "45/45 [==============================] - 0s 5ms/step - loss: 0.3924 - accuracy: 0.8427 - val_loss: 0.4394 - val_accuracy: 0.7989 - lr: 4.4933e-04\n",
            "Epoch 19/100\n",
            "45/45 [==============================] - 0s 9ms/step - loss: 0.3887 - accuracy: 0.8399 - val_loss: 0.4324 - val_accuracy: 0.8101 - lr: 4.0657e-04\n",
            "Epoch 20/100\n",
            "45/45 [==============================] - 0s 6ms/step - loss: 0.3962 - accuracy: 0.8371 - val_loss: 0.4344 - val_accuracy: 0.7989 - lr: 3.6788e-04\n",
            "Epoch 21/100\n",
            "45/45 [==============================] - 0s 8ms/step - loss: 0.3913 - accuracy: 0.8399 - val_loss: 0.4334 - val_accuracy: 0.8156 - lr: 3.3287e-04\n",
            "Epoch 22/100\n",
            "45/45 [==============================] - 0s 7ms/step - loss: 0.3882 - accuracy: 0.8427 - val_loss: 0.4346 - val_accuracy: 0.8045 - lr: 3.0119e-04\n",
            "Epoch 23/100\n",
            "45/45 [==============================] - 0s 6ms/step - loss: 0.3866 - accuracy: 0.8441 - val_loss: 0.4385 - val_accuracy: 0.7933 - lr: 2.7253e-04\n",
            "Epoch 24/100\n",
            "45/45 [==============================] - 0s 7ms/step - loss: 0.3860 - accuracy: 0.8427 - val_loss: 0.4386 - val_accuracy: 0.7933 - lr: 2.4660e-04\n",
            "Epoch 25/100\n",
            "45/45 [==============================] - 0s 6ms/step - loss: 0.3860 - accuracy: 0.8385 - val_loss: 0.4376 - val_accuracy: 0.7933 - lr: 2.2313e-04\n",
            "Epoch 26/100\n",
            "45/45 [==============================] - 0s 8ms/step - loss: 0.3838 - accuracy: 0.8455 - val_loss: 0.4372 - val_accuracy: 0.7933 - lr: 2.0190e-04\n",
            "Epoch 27/100\n",
            "45/45 [==============================] - 0s 4ms/step - loss: 0.3834 - accuracy: 0.8455 - val_loss: 0.4353 - val_accuracy: 0.7933 - lr: 1.8268e-04\n",
            "Epoch 28/100\n",
            "45/45 [==============================] - 0s 4ms/step - loss: 0.3825 - accuracy: 0.8441 - val_loss: 0.4358 - val_accuracy: 0.7933 - lr: 1.6530e-04\n",
            "Epoch 29/100\n",
            "45/45 [==============================] - 0s 4ms/step - loss: 0.3819 - accuracy: 0.8469 - val_loss: 0.4355 - val_accuracy: 0.7933 - lr: 1.4957e-04\n",
            "Epoch 30/100\n",
            "45/45 [==============================] - 0s 6ms/step - loss: 0.3816 - accuracy: 0.8469 - val_loss: 0.4339 - val_accuracy: 0.7933 - lr: 1.3534e-04\n",
            "Epoch 31/100\n",
            "45/45 [==============================] - 0s 4ms/step - loss: 0.3809 - accuracy: 0.8469 - val_loss: 0.4340 - val_accuracy: 0.7933 - lr: 1.2246e-04\n",
            "Epoch 32/100\n",
            "45/45 [==============================] - 0s 5ms/step - loss: 0.3809 - accuracy: 0.8455 - val_loss: 0.4354 - val_accuracy: 0.7933 - lr: 1.1080e-04\n",
            "Epoch 33/100\n",
            "45/45 [==============================] - 0s 6ms/step - loss: 0.3808 - accuracy: 0.8497 - val_loss: 0.4345 - val_accuracy: 0.7933 - lr: 1.0026e-04\n",
            "Epoch 34/100\n",
            "45/45 [==============================] - 0s 6ms/step - loss: 0.3801 - accuracy: 0.8483 - val_loss: 0.4341 - val_accuracy: 0.7933 - lr: 9.0718e-05\n",
            "Epoch 35/100\n",
            "45/45 [==============================] - 0s 4ms/step - loss: 0.3799 - accuracy: 0.8455 - val_loss: 0.4349 - val_accuracy: 0.7933 - lr: 8.2085e-05\n",
            "Epoch 36/100\n",
            "45/45 [==============================] - 0s 3ms/step - loss: 0.3794 - accuracy: 0.8469 - val_loss: 0.4353 - val_accuracy: 0.7933 - lr: 7.4274e-05\n",
            "Epoch 37/100\n",
            "45/45 [==============================] - 0s 2ms/step - loss: 0.3793 - accuracy: 0.8469 - val_loss: 0.4351 - val_accuracy: 0.7933 - lr: 6.7206e-05\n",
            "Epoch 38/100\n",
            "45/45 [==============================] - 0s 3ms/step - loss: 0.3792 - accuracy: 0.8469 - val_loss: 0.4354 - val_accuracy: 0.7933 - lr: 6.0810e-05\n",
            "Epoch 39/100\n",
            "45/45 [==============================] - 0s 3ms/step - loss: 0.3792 - accuracy: 0.8469 - val_loss: 0.4356 - val_accuracy: 0.7933 - lr: 5.5023e-05\n",
            "Epoch 40/100\n",
            "45/45 [==============================] - 0s 3ms/step - loss: 0.3790 - accuracy: 0.8469 - val_loss: 0.4353 - val_accuracy: 0.7933 - lr: 4.9787e-05\n",
            "Epoch 41/100\n",
            "45/45 [==============================] - 0s 3ms/step - loss: 0.3788 - accuracy: 0.8483 - val_loss: 0.4354 - val_accuracy: 0.7933 - lr: 4.5049e-05\n",
            "Epoch 42/100\n",
            "45/45 [==============================] - 0s 3ms/step - loss: 0.3786 - accuracy: 0.8469 - val_loss: 0.4355 - val_accuracy: 0.7933 - lr: 4.0762e-05\n",
            "Epoch 43/100\n",
            "45/45 [==============================] - 0s 3ms/step - loss: 0.3783 - accuracy: 0.8469 - val_loss: 0.4352 - val_accuracy: 0.7933 - lr: 3.6883e-05\n",
            "Epoch 44/100\n",
            "45/45 [==============================] - 0s 3ms/step - loss: 0.3782 - accuracy: 0.8483 - val_loss: 0.4349 - val_accuracy: 0.7933 - lr: 3.3373e-05\n",
            "Epoch 45/100\n",
            "45/45 [==============================] - 0s 3ms/step - loss: 0.3782 - accuracy: 0.8483 - val_loss: 0.4351 - val_accuracy: 0.7933 - lr: 3.0197e-05\n",
            "Epoch 46/100\n",
            "45/45 [==============================] - 0s 3ms/step - loss: 0.3781 - accuracy: 0.8483 - val_loss: 0.4347 - val_accuracy: 0.7933 - lr: 2.7324e-05\n",
            "Epoch 47/100\n",
            "45/45 [==============================] - 0s 3ms/step - loss: 0.3780 - accuracy: 0.8483 - val_loss: 0.4352 - val_accuracy: 0.7933 - lr: 2.4724e-05\n",
            "Epoch 48/100\n",
            "45/45 [==============================] - 0s 3ms/step - loss: 0.3781 - accuracy: 0.8483 - val_loss: 0.4351 - val_accuracy: 0.7933 - lr: 2.2371e-05\n",
            "Epoch 49/100\n",
            "45/45 [==============================] - 0s 3ms/step - loss: 0.3778 - accuracy: 0.8483 - val_loss: 0.4350 - val_accuracy: 0.7933 - lr: 2.0242e-05\n",
            "Epoch 50/100\n",
            "45/45 [==============================] - 0s 4ms/step - loss: 0.3778 - accuracy: 0.8483 - val_loss: 0.4346 - val_accuracy: 0.7933 - lr: 1.8316e-05\n",
            "Epoch 51/100\n",
            "45/45 [==============================] - 0s 4ms/step - loss: 0.3777 - accuracy: 0.8483 - val_loss: 0.4349 - val_accuracy: 0.7933 - lr: 1.6573e-05\n",
            "Epoch 52/100\n",
            "45/45 [==============================] - 0s 5ms/step - loss: 0.3776 - accuracy: 0.8483 - val_loss: 0.4347 - val_accuracy: 0.7933 - lr: 1.4996e-05\n",
            "Epoch 53/100\n",
            "45/45 [==============================] - 0s 4ms/step - loss: 0.3776 - accuracy: 0.8483 - val_loss: 0.4349 - val_accuracy: 0.7933 - lr: 1.3569e-05\n",
            "Epoch 54/100\n",
            "45/45 [==============================] - 0s 4ms/step - loss: 0.3777 - accuracy: 0.8483 - val_loss: 0.4347 - val_accuracy: 0.7933 - lr: 1.2277e-05\n",
            "Epoch 55/100\n",
            "45/45 [==============================] - 0s 4ms/step - loss: 0.3775 - accuracy: 0.8483 - val_loss: 0.4348 - val_accuracy: 0.7933 - lr: 1.1109e-05\n",
            "Epoch 56/100\n",
            "45/45 [==============================] - 0s 4ms/step - loss: 0.3775 - accuracy: 0.8483 - val_loss: 0.4350 - val_accuracy: 0.7933 - lr: 1.0052e-05\n",
            "Epoch 57/100\n",
            "45/45 [==============================] - 0s 5ms/step - loss: 0.3775 - accuracy: 0.8483 - val_loss: 0.4350 - val_accuracy: 0.7933 - lr: 9.0953e-06\n",
            "Epoch 58/100\n",
            "45/45 [==============================] - 0s 4ms/step - loss: 0.3775 - accuracy: 0.8483 - val_loss: 0.4348 - val_accuracy: 0.7933 - lr: 8.2298e-06\n",
            "Epoch 59/100\n",
            "45/45 [==============================] - 0s 5ms/step - loss: 0.3774 - accuracy: 0.8483 - val_loss: 0.4349 - val_accuracy: 0.7933 - lr: 7.4466e-06\n",
            "Epoch 60/100\n",
            "45/45 [==============================] - 0s 5ms/step - loss: 0.3774 - accuracy: 0.8483 - val_loss: 0.4347 - val_accuracy: 0.7933 - lr: 6.7379e-06\n",
            "Epoch 61/100\n",
            "45/45 [==============================] - 0s 4ms/step - loss: 0.3774 - accuracy: 0.8483 - val_loss: 0.4348 - val_accuracy: 0.7933 - lr: 6.0967e-06\n",
            "Epoch 62/100\n",
            "45/45 [==============================] - 0s 4ms/step - loss: 0.3774 - accuracy: 0.8483 - val_loss: 0.4348 - val_accuracy: 0.7933 - lr: 5.5166e-06\n",
            "Epoch 63/100\n",
            "45/45 [==============================] - 0s 4ms/step - loss: 0.3773 - accuracy: 0.8483 - val_loss: 0.4348 - val_accuracy: 0.7933 - lr: 4.9916e-06\n",
            "Epoch 64/100\n",
            "45/45 [==============================] - 0s 3ms/step - loss: 0.3773 - accuracy: 0.8483 - val_loss: 0.4348 - val_accuracy: 0.7933 - lr: 4.5166e-06\n",
            "Epoch 65/100\n",
            "45/45 [==============================] - 0s 3ms/step - loss: 0.3773 - accuracy: 0.8483 - val_loss: 0.4348 - val_accuracy: 0.7933 - lr: 4.0868e-06\n",
            "Epoch 66/100\n",
            "45/45 [==============================] - 0s 3ms/step - loss: 0.3773 - accuracy: 0.8483 - val_loss: 0.4347 - val_accuracy: 0.7933 - lr: 3.6979e-06\n",
            "Epoch 67/100\n",
            "45/45 [==============================] - 0s 3ms/step - loss: 0.3773 - accuracy: 0.8483 - val_loss: 0.4347 - val_accuracy: 0.7933 - lr: 3.3460e-06\n",
            "Epoch 68/100\n",
            "45/45 [==============================] - 0s 3ms/step - loss: 0.3773 - accuracy: 0.8483 - val_loss: 0.4347 - val_accuracy: 0.7933 - lr: 3.0276e-06\n",
            "Epoch 69/100\n",
            "45/45 [==============================] - 0s 2ms/step - loss: 0.3773 - accuracy: 0.8483 - val_loss: 0.4348 - val_accuracy: 0.7933 - lr: 2.7394e-06\n",
            "Epoch 70/100\n",
            "45/45 [==============================] - 0s 3ms/step - loss: 0.3772 - accuracy: 0.8483 - val_loss: 0.4348 - val_accuracy: 0.7933 - lr: 2.4788e-06\n",
            "Epoch 71/100\n",
            "45/45 [==============================] - 0s 2ms/step - loss: 0.3772 - accuracy: 0.8483 - val_loss: 0.4348 - val_accuracy: 0.7933 - lr: 2.2429e-06\n",
            "Epoch 72/100\n",
            "45/45 [==============================] - 0s 3ms/step - loss: 0.3772 - accuracy: 0.8483 - val_loss: 0.4348 - val_accuracy: 0.7933 - lr: 2.0294e-06\n",
            "Epoch 73/100\n",
            "45/45 [==============================] - 0s 3ms/step - loss: 0.3772 - accuracy: 0.8483 - val_loss: 0.4348 - val_accuracy: 0.7933 - lr: 1.8363e-06\n",
            "Epoch 74/100\n",
            "45/45 [==============================] - 0s 3ms/step - loss: 0.3772 - accuracy: 0.8483 - val_loss: 0.4348 - val_accuracy: 0.7933 - lr: 1.6616e-06\n",
            "Epoch 75/100\n",
            "45/45 [==============================] - 0s 3ms/step - loss: 0.3772 - accuracy: 0.8483 - val_loss: 0.4347 - val_accuracy: 0.7933 - lr: 1.5034e-06\n",
            "Epoch 76/100\n",
            "45/45 [==============================] - 0s 3ms/step - loss: 0.3772 - accuracy: 0.8483 - val_loss: 0.4348 - val_accuracy: 0.7933 - lr: 1.3604e-06\n",
            "Epoch 77/100\n",
            "45/45 [==============================] - 0s 3ms/step - loss: 0.3772 - accuracy: 0.8483 - val_loss: 0.4348 - val_accuracy: 0.7933 - lr: 1.2309e-06\n",
            "Epoch 78/100\n",
            "45/45 [==============================] - 0s 3ms/step - loss: 0.3772 - accuracy: 0.8483 - val_loss: 0.4348 - val_accuracy: 0.7933 - lr: 1.1138e-06\n",
            "Epoch 79/100\n",
            "45/45 [==============================] - 0s 3ms/step - loss: 0.3772 - accuracy: 0.8483 - val_loss: 0.4348 - val_accuracy: 0.7933 - lr: 1.0078e-06\n",
            "Epoch 80/100\n",
            "45/45 [==============================] - 0s 3ms/step - loss: 0.3772 - accuracy: 0.8483 - val_loss: 0.4348 - val_accuracy: 0.7933 - lr: 9.1188e-07\n",
            "Epoch 81/100\n",
            "45/45 [==============================] - 0s 3ms/step - loss: 0.3772 - accuracy: 0.8483 - val_loss: 0.4348 - val_accuracy: 0.7933 - lr: 8.2511e-07\n",
            "Epoch 82/100\n",
            "45/45 [==============================] - 0s 3ms/step - loss: 0.3772 - accuracy: 0.8483 - val_loss: 0.4348 - val_accuracy: 0.7933 - lr: 7.4659e-07\n",
            "Epoch 83/100\n",
            "45/45 [==============================] - 0s 3ms/step - loss: 0.3772 - accuracy: 0.8483 - val_loss: 0.4348 - val_accuracy: 0.7933 - lr: 6.7554e-07\n",
            "Epoch 84/100\n",
            "45/45 [==============================] - 0s 3ms/step - loss: 0.3772 - accuracy: 0.8483 - val_loss: 0.4348 - val_accuracy: 0.7933 - lr: 6.1125e-07\n",
            "Epoch 85/100\n",
            "45/45 [==============================] - 0s 3ms/step - loss: 0.3772 - accuracy: 0.8483 - val_loss: 0.4348 - val_accuracy: 0.7933 - lr: 5.5308e-07\n",
            "Epoch 86/100\n",
            "45/45 [==============================] - 0s 3ms/step - loss: 0.3772 - accuracy: 0.8483 - val_loss: 0.4348 - val_accuracy: 0.7933 - lr: 5.0045e-07\n",
            "Epoch 87/100\n",
            "45/45 [==============================] - 0s 3ms/step - loss: 0.3772 - accuracy: 0.8483 - val_loss: 0.4348 - val_accuracy: 0.7933 - lr: 4.5283e-07\n",
            "Epoch 88/100\n",
            "45/45 [==============================] - 0s 3ms/step - loss: 0.3772 - accuracy: 0.8483 - val_loss: 0.4348 - val_accuracy: 0.7933 - lr: 4.0974e-07\n",
            "Epoch 89/100\n",
            "45/45 [==============================] - 0s 3ms/step - loss: 0.3772 - accuracy: 0.8483 - val_loss: 0.4348 - val_accuracy: 0.7933 - lr: 3.7074e-07\n",
            "Epoch 90/100\n",
            "45/45 [==============================] - 0s 3ms/step - loss: 0.3772 - accuracy: 0.8483 - val_loss: 0.4348 - val_accuracy: 0.7933 - lr: 3.3546e-07\n",
            "Epoch 91/100\n",
            "45/45 [==============================] - 0s 3ms/step - loss: 0.3772 - accuracy: 0.8483 - val_loss: 0.4348 - val_accuracy: 0.7933 - lr: 3.0354e-07\n",
            "Epoch 92/100\n",
            "45/45 [==============================] - 0s 3ms/step - loss: 0.3772 - accuracy: 0.8483 - val_loss: 0.4348 - val_accuracy: 0.7933 - lr: 2.7465e-07\n",
            "Epoch 93/100\n",
            "45/45 [==============================] - 0s 3ms/step - loss: 0.3772 - accuracy: 0.8483 - val_loss: 0.4348 - val_accuracy: 0.7933 - lr: 2.4852e-07\n",
            "Epoch 94/100\n",
            "45/45 [==============================] - 0s 3ms/step - loss: 0.3772 - accuracy: 0.8483 - val_loss: 0.4348 - val_accuracy: 0.7933 - lr: 2.2487e-07\n",
            "Epoch 95/100\n",
            "45/45 [==============================] - 0s 3ms/step - loss: 0.3772 - accuracy: 0.8483 - val_loss: 0.4348 - val_accuracy: 0.7933 - lr: 2.0347e-07\n",
            "Epoch 96/100\n",
            "45/45 [==============================] - 0s 3ms/step - loss: 0.3772 - accuracy: 0.8483 - val_loss: 0.4348 - val_accuracy: 0.7933 - lr: 1.8411e-07\n",
            "Epoch 97/100\n",
            "45/45 [==============================] - 0s 4ms/step - loss: 0.3772 - accuracy: 0.8483 - val_loss: 0.4348 - val_accuracy: 0.7933 - lr: 1.6659e-07\n",
            "Epoch 98/100\n",
            "45/45 [==============================] - 0s 3ms/step - loss: 0.3772 - accuracy: 0.8483 - val_loss: 0.4348 - val_accuracy: 0.7933 - lr: 1.5073e-07\n",
            "Epoch 99/100\n",
            "45/45 [==============================] - 0s 3ms/step - loss: 0.3772 - accuracy: 0.8483 - val_loss: 0.4348 - val_accuracy: 0.7933 - lr: 1.3639e-07\n",
            "Epoch 100/100\n",
            "45/45 [==============================] - 0s 3ms/step - loss: 0.3772 - accuracy: 0.8483 - val_loss: 0.4348 - val_accuracy: 0.7933 - lr: 1.2341e-07\n"
          ]
        }
      ]
    },
    {
      "cell_type": "code",
      "source": [
        "# Plot the learning curve\n",
        "plt.plot(history.history['accuracy'])\n",
        "plt.plot(history.history['val_accuracy'])\n",
        "plt.title('Model accuracy')\n",
        "plt.ylabel('Accuracy')\n",
        "plt.xlabel('Epoch')\n",
        "plt.legend(['Train', 'Validation'], loc='upper left')\n",
        "plt.show()"
      ],
      "metadata": {
        "colab": {
          "base_uri": "https://localhost:8080/",
          "height": 472
        },
        "id": "Y4Bz1blRxHa7",
        "outputId": "cc1ba548-24fd-44c9-f04d-7b8908792e1a"
      },
      "execution_count": 31,
      "outputs": [
        {
          "output_type": "display_data",
          "data": {
            "text/plain": [
              "<Figure size 640x480 with 1 Axes>"
            ],
            "image/png": "[encoded data removed]"
          },
          "metadata": {}
        }
      ]
    },
    {
      "cell_type": "markdown",
      "source": [
        "Prediction:"
      ],
      "metadata": {
        "id": "O_GwiK3MygeV"
      }
    },
    {
      "cell_type": "code",
      "source": [
        "predictions = model.predict(test_data)"
      ],
      "metadata": {
        "colab": {
          "base_uri": "https://localhost:8080/"
        },
        "id": "S-KZHWbJxHch",
        "outputId": "6c82e2cb-fdbf-43ec-fe1f-7becec43412f"
      },
      "execution_count": 32,
      "outputs": [
        {
          "output_type": "stream",
          "name": "stdout",
          "text": [
            "14/14 [==============================] - 0s 1ms/step\n"
          ]
        }
      ]
    },
    {
      "cell_type": "code",
      "source": [
        "op = model.predict([[3,1,22.000000,1,0,7.2500,2]])\n",
        "if op[0][0] >= 0.50:\n",
        "  print(\"Did not survived\")\n",
        "else:\n",
        "  print(\"Did survived\")"
      ],
      "metadata": {
        "colab": {
          "base_uri": "https://localhost:8080/"
        },
        "id": "jQu7wnIFxHd2",
        "outputId": "0c7af6e9-9196-405d-a434-11eb2baa13a8"
      },
      "execution_count": 34,
      "outputs": [
        {
          "output_type": "stream",
          "name": "stdout",
          "text": [
            "1/1 [==============================] - 0s 92ms/step\n",
            "Did not survived\n"
          ]
        }
      ]
    }
  ]
}